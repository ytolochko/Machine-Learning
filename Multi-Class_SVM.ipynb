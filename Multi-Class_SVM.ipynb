{
 "cells": [
  {
   "cell_type": "markdown",
   "metadata": {},
   "source": [
    "# Multi-Class SVM\n",
    "\n",
    "- Build the general architecture of a multi-class SVM, including:\n",
    "    - Calculating the cost function and its gradient\n",
    "    - Find the optimal hyperparameters by cross validation"
   ]
  },
  {
   "cell_type": "markdown",
   "metadata": {},
   "source": [
    "# Load Required Libraries"
   ]
  },
  {
   "cell_type": "code",
   "execution_count": 1,
   "metadata": {
    "collapsed": true
   },
   "outputs": [],
   "source": [
    "import random\n",
    "import numpy as np\n",
    "from past.builtins import xrange\n",
    "from local_utils.data_utils import load_CIFAR10\n",
    "import matplotlib.pyplot as plt\n",
    "import time"
   ]
  },
  {
   "cell_type": "markdown",
   "metadata": {},
   "source": [
    "## CIFAR-10 load data\n",
    "\n",
    "Next cell defines a data helper function that does some basic preprocessing."
   ]
  },
  {
   "cell_type": "code",
   "execution_count": 2,
   "metadata": {},
   "outputs": [
    {
     "name": "stdout",
     "output_type": "stream",
     "text": [
      "Train data shape:  (49000, 3073)\n",
      "Train labels shape:  (49000,)\n",
      "Validation data shape:  (1000, 3073)\n",
      "Validation labels shape:  (1000,)\n",
      "Test data shape:  (1000, 3073)\n",
      "Test labels shape:  (1000,)\n",
      "dev data shape:  (500, 3073)\n",
      "dev labels shape:  (500,)\n"
     ]
    }
   ],
   "source": [
    "def get_CIFAR10_data(num_training=49000, num_validation=1000, num_test=1000, num_dev=500):\n",
    "    \"\"\"\n",
    "    Load the CIFAR-10 dataset from disk and perform preprocessing to prepare\n",
    "    it for the linear classifier. These are the same steps as we used for the\n",
    "    SVM, but condensed to a single function.  \n",
    "    \"\"\"\n",
    "    # Load the raw CIFAR-10 data\n",
    "    cifar10_dir = '../../data/cifar/'\n",
    "    X_train, y_train, X_test, y_test = load_CIFAR10(cifar10_dir)\n",
    "    \n",
    "    # subsample the data\n",
    "    mask = list(range(num_training, num_training + num_validation))\n",
    "    X_val = X_train[mask]\n",
    "    y_val = y_train[mask]\n",
    "    mask = list(range(num_training))\n",
    "    X_train = X_train[mask]\n",
    "    y_train = y_train[mask]\n",
    "    mask = list(range(num_test))\n",
    "    X_test = X_test[mask]\n",
    "    y_test = y_test[mask]\n",
    "    mask = np.random.choice(num_training, num_dev, replace=False)\n",
    "    X_dev = X_train[mask]\n",
    "    y_dev = y_train[mask]\n",
    "    \n",
    "    # Preprocessing: reshape the image data into rows\n",
    "    X_train = np.reshape(X_train, (X_train.shape[0], -1))\n",
    "    X_val = np.reshape(X_val, (X_val.shape[0], -1))\n",
    "    X_test = np.reshape(X_test, (X_test.shape[0], -1))\n",
    "    X_dev = np.reshape(X_dev, (X_dev.shape[0], -1))\n",
    "    \n",
    "    # Normalize the data: subtract the mean image\n",
    "    mean_image = np.mean(X_train, axis = 0)\n",
    "    X_train -= mean_image\n",
    "    X_val -= mean_image\n",
    "    X_test -= mean_image\n",
    "    X_dev -= mean_image\n",
    "    \n",
    "    # add bias dimension and transform into columns\n",
    "    X_train = np.hstack([X_train, np.ones((X_train.shape[0], 1))])\n",
    "    X_val = np.hstack([X_val, np.ones((X_val.shape[0], 1))])\n",
    "    X_test = np.hstack([X_test, np.ones((X_test.shape[0], 1))])\n",
    "    X_dev = np.hstack([X_dev, np.ones((X_dev.shape[0], 1))])\n",
    "    \n",
    "    return X_train, y_train, X_val, y_val, X_test, y_test, X_dev, y_dev\n",
    "\n",
    "\n",
    "# Invoke the above function to get our data.\n",
    "X_train, y_train, X_val, y_val, X_test, y_test, X_dev, y_dev = get_CIFAR10_data()\n",
    "print('Train data shape: ', X_train.shape)\n",
    "print('Train labels shape: ', y_train.shape)\n",
    "print('Validation data shape: ', X_val.shape)\n",
    "print('Validation labels shape: ', y_val.shape)\n",
    "print('Test data shape: ', X_test.shape)\n",
    "print('Test labels shape: ', y_test.shape)\n",
    "print('dev data shape: ', X_dev.shape)\n",
    "print('dev labels shape: ', y_dev.shape)"
   ]
  },
  {
   "cell_type": "markdown",
   "metadata": {},
   "source": [
    "## Task 1: Multi-Class SVM - Loss Function and Gradient"
   ]
  },
  {
   "cell_type": "code",
   "execution_count": 3,
   "metadata": {
    "collapsed": true
   },
   "outputs": [],
   "source": [
    "def svm_loss_naive(W, X, y, reg):\n",
    "    \"\"\"\n",
    "    Structured SVM loss function, naive implementation (with loops).\n",
    "\n",
    "    Inputs have dimension D, there are C classes, and we operate on minibatches\n",
    "    of N examples.\n",
    "\n",
    "    Inputs:\n",
    "    - W: A numpy array of shape (D, C) containing weights.\n",
    "    - X: A numpy array of shape (N, D) containing a minibatch of data.\n",
    "    - y: A numpy array of shape (N,) containing training labels; y[i] = c means\n",
    "         that X[i] has label c, where 0 <= c < C.\n",
    "    - reg: (float) regularization strength\n",
    "\n",
    "    Returns a tuple of:\n",
    "    - loss as single float\n",
    "    - gradient with respect to weights W; an array of same shape as W\n",
    "    \"\"\"\n",
    "    dW = np.zeros(W.shape) # initialize the gradient as zero\n",
    "    num_classes = W.shape[1]\n",
    "    num_samples = X.shape[0]\n",
    "\n",
    "    #############################################################################\n",
    "    # TODO: Compute the multi-class svm loss and its gradient using explicit    #\n",
    "    # loops. Store the loss in loss and the gradient in dW. Don't forget the    #\n",
    "    # regularization!                                                           #\n",
    "    #############################################################################\n",
    "    \n",
    "    # we assume that delta = 1 (i.e. the distance parameter of hinge loss is 1, which is the default value in the field)\n",
    "    loss = 0.0\n",
    "    for i in xrange(num_samples):\n",
    "        raw_scores = X[i, :].dot(W)\n",
    "        correct_class_score = raw_scores[y[i]]\n",
    "        for j in xrange(num_classes):\n",
    "            if j == y[i]:\n",
    "                continue # do nothing if currently looking at the true class, b.c. we only calculate the distance to other classes\n",
    "            margin = raw_scores[j] - correct_class_score + 1\n",
    "            if margin > 0:\n",
    "                loss += margin\n",
    "                dW[:, j] += X[i, :]#.T\n",
    "                dW[:, y[i]] -= X[i, :]#.T\n",
    "\n",
    "    # Right now the loss is a sum over all training examples, but we want it\n",
    "    # to be an average instead so we divide by num_train.\n",
    "    loss /= num_samples\n",
    "    dW   /= num_samples\n",
    "\n",
    "    # Add regularization to the loss.\n",
    "    loss += 0.5 * reg * np.sum(W * W)\n",
    "    dW   += reg * W\n",
    "\n",
    "   \n",
    "    \n",
    "    #############################################################################\n",
    "    #                         END OF YOUR CODE                                  #\n",
    "    #############################################################################\n",
    "    return loss, dW"
   ]
  },
  {
   "cell_type": "markdown",
   "metadata": {},
   "source": [
    "# Task 2: Multi-Class SVM"
   ]
  },
  {
   "cell_type": "code",
   "execution_count": 5,
   "metadata": {
    "collapsed": true
   },
   "outputs": [],
   "source": [
    "def svm_loss_vectorized(W, X, y, reg):\n",
    "    \"\"\"\n",
    "    Structured SVM loss function, vectorized implementation.\n",
    "\n",
    "    Inputs and outputs are the same as svm_loss_naive.\n",
    "    \"\"\"\n",
    "    loss = 0.0\n",
    "    dW = np.zeros(W.shape) # initialize the gradient as zero\n",
    "\n",
    "    #############################################################################\n",
    "    # TODO:                                                                     #\n",
    "    # Implement a vectorized version of the structured SVM loss, storing the    #\n",
    "    # result in loss.                                                           #\n",
    "    #############################################################################\n",
    "    num_samples = X.shape[0]\n",
    "    raw_scores = X.dot(W) # calculate the raw scores by dot product\n",
    "    idxs = np.array(range(num_samples)) # this idxs variable is needed for correctly subsetting numpy array\n",
    "    correct_class_scores = raw_scores[idxs, y] # select the scores of the correct class lables \n",
    "    correct_class_scores.shape = (num_samples, 1) # reshape (500, ) to (500, 1) array\n",
    "    \n",
    "    \n",
    "    difference = np.maximum(0, raw_scores - correct_class_scores + 1)\n",
    "    difference [idxs, y] = 0\n",
    "    loss = np.sum(difference) # calculate the total loss, by summing up all differences between scores for every trainset example\n",
    "\n",
    "    loss /= num_samples\n",
    "    loss += 0.5 * reg * np.sum(W * W)\n",
    "    \n",
    "    \n",
    "    #############################################################################\n",
    "    #                             END OF YOUR CODE                              #\n",
    "    #############################################################################\n",
    "\n",
    "\n",
    "    #############################################################################\n",
    "    # TODO:                                                                     #\n",
    "    # Implement a vectorized version of the gradient for the structured SVM     #\n",
    "    # loss, storing the result in dW.                                           #\n",
    "    #                                                                           #\n",
    "    # Hint: Instead of computing the gradient from scratch, it may be easier    #\n",
    "    # to reuse some of the intermediate values that you used to compute the     #\n",
    "    # loss.                                                                     #\n",
    "    #############################################################################\n",
    "    \n",
    "    difference = np.where(difference > 0, 1, 0) # Those where difference > 0, set to 1. Those where difference < 0, set to 0 \n",
    "    difference[np.arange(0, raw_scores.shape[0]), y] = -1 * np.sum(difference, 1)\n",
    "    dW = np.dot(X.T, difference)\n",
    "\n",
    "    dW /= num_samples\n",
    "    dW += reg * W\n",
    "    \n",
    "    \n",
    "    #############################################################################\n",
    "    #                             END OF YOUR CODE                              #\n",
    "    #############################################################################\n",
    "\n",
    "    return loss, dW"
   ]
  },
  {
   "cell_type": "markdown",
   "metadata": {},
   "source": [
    "# Check: Performance\n",
    "\n",
    "Execute the cell below to run a performance comparison between the naive implementation using loops\n",
    "and the optimized version using vectorized instructions.\n",
    "The two versions should compute the same results, but the vectorized version should be much faster."
   ]
  },
  {
   "cell_type": "code",
   "execution_count": 6,
   "metadata": {},
   "outputs": [
    {
     "name": "stdout",
     "output_type": "stream",
     "text": [
      "Naive loss: 8.923784e+00 computed in -0.104689s\n",
      "Vectorized loss: 8.923784e+00 computed in 0.000000s\n",
      "Loss difference: 0.000000\n",
      "Gradient difference: 0.000000\n",
      "Runtime abs. difference: 0.104689 seconds\n",
      "Runtime rel. improvement: 1.000000 percent\n"
     ]
    }
   ],
   "source": [
    "tic = time.time()\n",
    "loss_naive, grad_naive = svm_loss_naive(W, X_dev, y_dev, 0.000005)\n",
    "toc = time.time()\n",
    "diff = tic - toc\n",
    "print('Naive loss: %e computed in %fs' % (loss_naive, diff))\n",
    "\n",
    "tic = time.time()\n",
    "loss_vectorized, grad_vectorized = svm_loss_vectorized(W, X_dev, y_dev, 0.000005)\n",
    "toc = time.time()\n",
    "diff_vec = tic - toc\n",
    "print('Vectorized loss: %e computed in %fs' % (loss_vectorized, diff_vec))\n",
    "\n",
    "# As we did for the SVM, we use the Frobenius norm to compare the two versions\n",
    "# of the gradient.\n",
    "grad_difference = np.linalg.norm(grad_naive - grad_vectorized, ord='fro')\n",
    "print('Loss difference: %f' % np.abs(loss_naive - loss_vectorized))\n",
    "print('Gradient difference: %f' % grad_difference)\n",
    "print('Runtime abs. difference: %f seconds' % (diff_vec - diff))\n",
    "print('Runtime rel. improvement: %f percent' % (1 - (diff_vec / diff)))"
   ]
  },
  {
   "cell_type": "markdown",
   "metadata": {},
   "source": [
    "# Stochastic Gradient Descent"
   ]
  },
  {
   "cell_type": "code",
   "execution_count": 7,
   "metadata": {
    "collapsed": true
   },
   "outputs": [],
   "source": [
    "# train multi-class svm by SGD, implemented in last assignment\n",
    "def train_SGD(X, y, learning_rate=1e-3, reg=1e-5, num_iters=100,\n",
    "            batch_size=200, verbose=False):\n",
    "    \"\"\"\n",
    "    Train this linear classifier using stochastic gradient descent.\n",
    "\n",
    "    Inputs:\n",
    "    - X: A numpy array of shape (N, D) containing training data; there are N\n",
    "      training samples each of dimension D.\n",
    "    - y: A numpy array of shape (N,) containing training labels; y[i] = c\n",
    "      means that X[i] has label 0 <= c < C for C classes.\n",
    "    - learning_rate: (float) learning rate for optimization.\n",
    "    - reg: (float) regularization strength.\n",
    "    - num_iters: (integer) number of steps to take when optimizing\n",
    "    - batch_size: (integer) number of training examples to use at each step.\n",
    "    - verbose: (boolean) If true, print progress during optimization.\n",
    "\n",
    "    Outputs:\n",
    "    W: A numpy array of shape (D, C) containing weights\n",
    "    loss_history: A list containing the value of the loss function at each training iteration.\n",
    "    \"\"\"\n",
    "    num_train, dim = X.shape\n",
    "    num_classes = np.max(y) + 1 # assume y takes values 0...K-1 where K is number of classes\n",
    "   \n",
    "    # Generate a random softmax weight matrix\n",
    "    W = 0.001 * np.random.randn(dim, num_classes)\n",
    "\n",
    "    # Run stochastic gradient descent to optimize W\n",
    "    loss_history = []\n",
    "    for it in xrange(num_iters):\n",
    "        X_batch = None\n",
    "        y_batch = None\n",
    "        p = np.random.choice(num_train, batch_size)\n",
    "        X_batch = X[p,:]\n",
    "        y_batch = y[p]\n",
    "  \n",
    "\n",
    "        # evaluate loss and gradient\n",
    "        loss, grad = svm_loss_vectorized(W,X_batch, y_batch, reg)\n",
    "        loss_history.append(loss)\n",
    " \n",
    "        W -= learning_rate*grad\n",
    "\n",
    "        if verbose and it % 100 == 0:\n",
    "            print('iteration %d / %d: loss %f' % (it, num_iters, loss))\n",
    "\n",
    "    return W, loss_history"
   ]
  },
  {
   "cell_type": "markdown",
   "metadata": {},
   "source": [
    "# SVM Training"
   ]
  },
  {
   "cell_type": "code",
   "execution_count": 8,
   "metadata": {},
   "outputs": [
    {
     "name": "stdout",
     "output_type": "stream",
     "text": [
      "iteration 0 / 1500: loss 406.725973\n",
      "iteration 100 / 1500: loss 239.852995\n",
      "iteration 200 / 1500: loss 145.588489\n",
      "iteration 300 / 1500: loss 90.000083\n",
      "iteration 400 / 1500: loss 55.475847\n",
      "iteration 500 / 1500: loss 35.490536\n",
      "iteration 600 / 1500: loss 22.707526\n",
      "iteration 700 / 1500: loss 15.442184\n",
      "iteration 800 / 1500: loss 11.517293\n",
      "iteration 900 / 1500: loss 9.254925\n",
      "iteration 1000 / 1500: loss 7.921169\n",
      "iteration 1100 / 1500: loss 6.475709\n",
      "iteration 1200 / 1500: loss 5.869633\n",
      "iteration 1300 / 1500: loss 5.933665\n",
      "iteration 1400 / 1500: loss 5.181684\n",
      "This took 7.491635s\n"
     ]
    }
   ],
   "source": [
    "tic = time.time()\n",
    "W, loss_hist = train_SGD(X_train, y_train, learning_rate=1e-7, reg=2.5e4,\n",
    "                      num_iters=1500, verbose=True)\n",
    "toc = time.time()\n",
    "print('This took %fs' % (toc - tic))"
   ]
  },
  {
   "cell_type": "markdown",
   "metadata": {},
   "source": [
    "# Check: Prediction"
   ]
  },
  {
   "cell_type": "code",
   "execution_count": 9,
   "metadata": {
    "collapsed": true
   },
   "outputs": [],
   "source": [
    "def predict(W, X):\n",
    "    \"\"\"\n",
    "    Use the trained weights of this linear classifier to predict labels for\n",
    "    data points.\n",
    "\n",
    "    Inputs:\n",
    "    - W: A numpy array of shape (D, C) containing weights\n",
    "    - X: A numpy array of shape (N, D) containing training data; there are N\n",
    "      training samples each of dimension D.\n",
    "\n",
    "    Returns:\n",
    "    - y_pred: Predicted labels for the data in X. y_pred is a 1-dimensional\n",
    "      array of length N, and each element is an integer giving the predicted\n",
    "      class.\n",
    "    \"\"\"\n",
    "    y_pred = np.zeros(X.shape[0])\n",
    "    y_pred = np.argmax(np.dot(X,W),axis=1)\n",
    "    return y_pred"
   ]
  },
  {
   "cell_type": "code",
   "execution_count": 26,
   "metadata": {},
   "outputs": [
    {
     "name": "stdout",
     "output_type": "stream",
     "text": [
      "training accuracy: 0.381367\n",
      "validation accuracy: 0.403000\n"
     ]
    }
   ],
   "source": [
    "# Write the predict function and evaluate the performance on both the\n",
    "# training and validation set\n",
    "y_train_pred = predict(W,X_train)\n",
    "print('training accuracy: %f' % np.mean(y_train == y_train_pred))\n",
    "y_val_pred = predict(W,X_val)\n",
    "print('validation accuracy: %f' % np.mean(y_val == y_val_pred))"
   ]
  },
  {
   "cell_type": "markdown",
   "metadata": {},
   "source": [
    "# Task 3: Hyperparameter"
   ]
  },
  {
   "cell_type": "code",
   "execution_count": 33,
   "metadata": {
    "scrolled": true
   },
   "outputs": [
    {
     "name": "stdout",
     "output_type": "stream",
     "text": [
      "iteration 0 / 1500: loss 409.187282\n",
      "iteration 100 / 1500: loss 241.592105\n",
      "iteration 200 / 1500: loss 147.126036\n",
      "iteration 300 / 1500: loss 90.179370\n",
      "iteration 400 / 1500: loss 56.556045\n",
      "iteration 500 / 1500: loss 35.997781\n",
      "iteration 600 / 1500: loss 24.050751\n",
      "iteration 700 / 1500: loss 16.617119\n",
      "iteration 800 / 1500: loss 11.702905\n",
      "iteration 900 / 1500: loss 9.348295\n",
      "iteration 1000 / 1500: loss 6.595140\n",
      "iteration 1100 / 1500: loss 5.931898\n",
      "iteration 1200 / 1500: loss 5.836534\n",
      "iteration 1300 / 1500: loss 5.736976\n",
      "iteration 1400 / 1500: loss 5.141270\n",
      "iteration 0 / 1500: loss 797.894937\n",
      "iteration 100 / 1500: loss 290.737954\n",
      "iteration 200 / 1500: loss 109.313708\n",
      "iteration 300 / 1500: loss 43.728675\n",
      "iteration 400 / 1500: loss 18.910334\n",
      "iteration 500 / 1500: loss 10.288576\n",
      "iteration 600 / 1500: loss 7.247003\n",
      "iteration 700 / 1500: loss 6.059927\n",
      "iteration 800 / 1500: loss 5.443085\n",
      "iteration 900 / 1500: loss 5.036185\n",
      "iteration 1000 / 1500: loss 5.981906\n",
      "iteration 1100 / 1500: loss 5.467326\n",
      "iteration 1200 / 1500: loss 5.403181\n",
      "iteration 1300 / 1500: loss 5.708211\n",
      "iteration 1400 / 1500: loss 5.018969\n",
      "iteration 0 / 1500: loss 407.835280\n",
      "iteration 100 / 1500: loss 312.426897\n",
      "iteration 200 / 1500: loss 242.708804\n",
      "iteration 300 / 1500: loss 188.692646\n",
      "iteration 400 / 1500: loss 146.655601\n",
      "iteration 500 / 1500: loss 115.505218\n",
      "iteration 600 / 1500: loss 90.379977\n",
      "iteration 700 / 1500: loss 71.159540\n",
      "iteration 800 / 1500: loss 56.664146\n",
      "iteration 900 / 1500: loss 44.809705\n",
      "iteration 1000 / 1500: loss 35.757272\n",
      "iteration 1100 / 1500: loss 28.779570\n",
      "iteration 1200 / 1500: loss 22.974753\n",
      "iteration 1300 / 1500: loss 19.535805\n",
      "iteration 1400 / 1500: loss 16.521212\n",
      "iteration 0 / 1500: loss 793.837764\n",
      "iteration 100 / 1500: loss 477.963499\n",
      "iteration 200 / 1500: loss 290.073971\n",
      "iteration 300 / 1500: loss 177.670267\n",
      "iteration 400 / 1500: loss 109.569144\n",
      "iteration 500 / 1500: loss 68.373265\n",
      "iteration 600 / 1500: loss 43.354919\n",
      "iteration 700 / 1500: loss 28.952606\n",
      "iteration 800 / 1500: loss 19.018850\n",
      "iteration 900 / 1500: loss 13.994479\n",
      "iteration 1000 / 1500: loss 10.479430\n",
      "iteration 1100 / 1500: loss 8.255192\n",
      "iteration 1200 / 1500: loss 7.611436\n",
      "iteration 1300 / 1500: loss 6.593666\n",
      "iteration 1400 / 1500: loss 6.233056\n",
      "iteration 0 / 1500: loss 404.919153\n",
      "iteration 100 / 1500: loss 380.754603\n",
      "iteration 200 / 1500: loss 363.316796\n",
      "iteration 300 / 1500: loss 342.129530\n",
      "iteration 400 / 1500: loss 324.765713\n",
      "iteration 500 / 1500: loss 306.410529\n",
      "iteration 600 / 1500: loss 293.544053\n",
      "iteration 700 / 1500: loss 278.488257\n",
      "iteration 800 / 1500: loss 264.881159\n",
      "iteration 900 / 1500: loss 252.105825\n",
      "iteration 1000 / 1500: loss 239.268422\n",
      "iteration 1100 / 1500: loss 227.957541\n",
      "iteration 1200 / 1500: loss 217.490705\n",
      "iteration 1300 / 1500: loss 205.470681\n",
      "iteration 1400 / 1500: loss 196.051714\n",
      "iteration 0 / 1500: loss 789.528154\n",
      "iteration 100 / 1500: loss 712.437660\n",
      "iteration 200 / 1500: loss 643.207235\n",
      "iteration 300 / 1500: loss 581.536944\n",
      "iteration 400 / 1500: loss 524.987427\n",
      "iteration 500 / 1500: loss 475.641706\n",
      "iteration 600 / 1500: loss 429.008394\n",
      "iteration 700 / 1500: loss 388.863341\n",
      "iteration 800 / 1500: loss 351.264878\n",
      "iteration 900 / 1500: loss 319.051030\n",
      "iteration 1000 / 1500: loss 289.213080\n",
      "iteration 1100 / 1500: loss 261.617589\n",
      "iteration 1200 / 1500: loss 236.719289\n",
      "iteration 1300 / 1500: loss 213.396521\n",
      "iteration 1400 / 1500: loss 194.312528\n",
      "lr 1.000000e-08 reg 2.500000e+04 train accuracy: 0.236796 val accuracy: 0.254000\n",
      "lr 1.000000e-08 reg 5.000000e+04 train accuracy: 0.260939 val accuracy: 0.248000\n",
      "lr 5.000000e-08 reg 2.500000e+04 train accuracy: 0.368673 val accuracy: 0.389000\n",
      "lr 5.000000e-08 reg 5.000000e+04 train accuracy: 0.373163 val accuracy: 0.383000\n",
      "lr 1.000000e-07 reg 2.500000e+04 train accuracy: 0.379653 val accuracy: 0.386000\n",
      "lr 1.000000e-07 reg 5.000000e+04 train accuracy: 0.372531 val accuracy: 0.384000\n",
      "best validation accuracy achieved during cross-validation: 0.389000\n"
     ]
    }
   ],
   "source": [
    "# Use the validation set to tune hyperparameters (regularization strength and\n",
    "# learning rate). You should experiment with different ranges for the learning\n",
    "# rates and regularization strengths; if you are careful you should be able to\n",
    "# get a classification accuracy of about 0.4 on the validation set.\n",
    "learning_rates = [1e-7, 5e-8, 1e-8]\n",
    "regularization_strengths = [2.5e4, 5e4]\n",
    "\n",
    "# results is dictionary mapping tuples of the form\n",
    "# (learning_rate, regularization_strength) to tuples of the form\n",
    "# (training_accuracy, validation_accuracy). The accuracy is simply the fraction\n",
    "# of data points that are correctly classified.\n",
    "results = {}\n",
    "best_val = -1   # The highest validation accuracy that we have seen so far.\n",
    "best_W = None # The LinearSVM object that achieved the highest validation rate.\n",
    "\n",
    "################################################################################\n",
    "# TODO:                                                                        #\n",
    "# Write code that chooses the best hyperparameters by tuning on the validation #\n",
    "# set. For each combination of hyperparameters, train a linear SVM on the      #\n",
    "# training set, compute its accuracy on the training and validation sets, and  #\n",
    "# store these numbers in the results dictionary. In addition, store the best   #\n",
    "# validation accuracy in best_val and the LinearSVM object that achieves this  #\n",
    "# accuracy in best_svm.                                                        #\n",
    "#                                                                              #\n",
    "# Hint: You should use a small value for num_iters as you develop your         #\n",
    "# validation code so that the SVMs don't take much time to train; once you are #\n",
    "# confident that your validation code works, you should rerun the validation   #\n",
    "# code with a larger value for num_iters.                                      #\n",
    "################################################################################\n",
    "for lr in learning_rates:\n",
    "    for reg in regularization_strengths:\n",
    "        \n",
    "        # train the matrix W\n",
    "        W, _  = train_SGD(X_train, y_train, learning_rate=lr, reg=reg, num_iters=1500, verbose=True)\n",
    "        \n",
    "        # predict values using the trained matrix W\n",
    "        y_train_pred = predict(W, X_train)\n",
    "        y_val_pred = predict(W, X_val)\n",
    "        \n",
    "        # compute accuracies\n",
    "        train_accuracy = np.mean(y_train == y_train_pred) # train accuracy\n",
    "        val_accuracy = np.mean(y_val == y_val_pred) # validation set accuracy\n",
    "        \n",
    "        results[lr, reg] = train_accuracy, val_accuracy\n",
    "        \n",
    "        if val_accuracy > best_val:\n",
    "            best_val = val_accuracy\n",
    "            best_W = W\n",
    "        \n",
    "################################################################################\n",
    "#                              END OF YOUR CODE                                #\n",
    "################################################################################\n",
    "    \n",
    "# Print out results.\n",
    "for lr, reg in sorted(results):\n",
    "    train_accuracy, val_accuracy = results[(lr, reg)]\n",
    "    print('lr %e reg %e train accuracy: %f val accuracy: %f' % (\n",
    "                lr, reg, train_accuracy, val_accuracy))\n",
    "    \n",
    "print('best validation accuracy achieved during cross-validation: %f' % best_val)"
   ]
  },
  {
   "cell_type": "markdown",
   "metadata": {},
   "source": [
    "# Check: Test Accuracy and Weight Visualization\n",
    "Here we test the SVM implementation on unseen test data. Accuracy should be around 0.35.\n",
    "The last cell displays the (rescaled) weights that our SVM has learned for each class."
   ]
  },
  {
   "cell_type": "code",
   "execution_count": 34,
   "metadata": {},
   "outputs": [
    {
     "name": "stdout",
     "output_type": "stream",
     "text": [
      "linear SVM on raw pixels final test set accuracy: 0.360000\n"
     ]
    }
   ],
   "source": [
    "# Evaluate the best svm on test set\n",
    "y_test_pred = predict(best_W,X_test)\n",
    "test_accuracy = np.mean(y_test == y_test_pred)\n",
    "print('linear SVM on raw pixels final test set accuracy: %f' % test_accuracy)"
   ]
  },
  {
   "cell_type": "code",
   "execution_count": 52,
   "metadata": {
    "scrolled": true
   },
   "outputs": [
    {
     "data": {
      "image/png": "[encoded data removed]",
      "text/plain": [
       "<matplotlib.figure.Figure at 0x26b9a416b38>"
      ]
     },
     "metadata": {},
     "output_type": "display_data"
    },
    {
     "data": {
      "image/png": "[encoded data removed]",
      "text/plain": [
       "<matplotlib.figure.Figure at 0x26b99f7aba8>"
      ]
     },
     "metadata": {},
     "output_type": "display_data"
    },
    {
     "data": {
      "image/png": "[encoded data removed]",
      "text/plain": [
       "<matplotlib.figure.Figure at 0x26b9a45f860>"
      ]
     },
     "metadata": {},
     "output_type": "display_data"
    },
    {
     "data": {
      "image/png": "[encoded data removed]",
      "text/plain": [
       "<matplotlib.figure.Figure at 0x26b9a5687b8>"
      ]
     },
     "metadata": {},
     "output_type": "display_data"
    },
    {
     "data": {
      "image/png": "[encoded data removed]",
      "text/plain": [
       "<matplotlib.figure.Figure at 0x26b9a19dba8>"
      ]
     },
     "metadata": {},
     "output_type": "display_data"
    },
    {
     "data": {
      "image/png": "[encoded data removed]",
      "text/plain": [
       "<matplotlib.figure.Figure at 0x26b9932dfd0>"
      ]
     },
     "metadata": {},
     "output_type": "display_data"
    },
    {
     "data": {
      "image/png": "[encoded data removed]",
      "text/plain": [
       "<matplotlib.figure.Figure at 0x26b9a3ab6d8>"
      ]
     },
     "metadata": {},
     "output_type": "display_data"
    },
    {
     "data": {
      "image/png": "[encoded data removed]",
      "text/plain": [
       "<matplotlib.figure.Figure at 0x26b9a53a0f0>"
      ]
     },
     "metadata": {},
     "output_type": "display_data"
    },
    {
     "data": {
      "image/png": "[encoded data removed]",
      "text/plain": [
       "<matplotlib.figure.Figure at 0x26b9a056c18>"
      ]
     },
     "metadata": {},
     "output_type": "display_data"
    },
    {
     "data": {
      "image/png": "[encoded data removed]",
      "text/plain": [
       "<matplotlib.figure.Figure at 0x26b9a3c82b0>"
      ]
     },
     "metadata": {},
     "output_type": "display_data"
    }
   ],
   "source": [
    "# Visualize the learned weights for each class.\n",
    "# Depending on the choice of learning rate and regularization strength, these may\n",
    "# or may not be nice to look at.\n",
    "w = best_W[:-1,:] # strip out the bias\n",
    "w = w.reshape(32, 32, 3, 10)\n",
    "w_min, w_max = np.min(w), np.max(w)\n",
    "classes = ['plane', 'car', 'bird', 'cat', 'deer', 'dog', 'frog', 'horse', 'ship', 'truck']\n",
    "for i in range(10):\n",
    "    plt.subplot(2, 5, i + 1)\n",
    "      \n",
    "    # Rescale the weights to be between 0 and 255\n",
    "    wimg = 255.0 * (w[:, :, :, i].squeeze() - w_min) / (w_max - w_min)\n",
    "    plt.imshow(wimg.astype('uint8'))\n",
    "    plt.axis('off')\n",
    "    plt.title(classes[i])\n",
    "    plt.show()"
   ]
  },
  {
   "cell_type": "code",
   "execution_count": null,
   "metadata": {
    "collapsed": true
   },
   "outputs": [],
   "source": []
  }
 ],
 "metadata": {
  "kernelspec": {
   "display_name": "Python 3",
   "language": "python",
   "name": "python3"
  },
  "language_info": {
   "codemirror_mode": {
    "name": "ipython",
    "version": 3
   },
   "file_extension": ".py",
   "mimetype": "text/x-python",
   "name": "python",
   "nbconvert_exporter": "python",
   "pygments_lexer": "ipython3",
   "version": "3.6.3"
  }
 },
 "nbformat": 4,
 "nbformat_minor": 2
}
